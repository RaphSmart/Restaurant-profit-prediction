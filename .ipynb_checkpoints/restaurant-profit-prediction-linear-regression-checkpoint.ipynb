{
 "cells": [
  {
   "cell_type": "markdown",
   "id": "b58062a0",
   "metadata": {
    "papermill": {
     "duration": 0.00697,
     "end_time": "2023-08-01T14:16:51.996303",
     "exception": false,
     "start_time": "2023-08-01T14:16:51.989333",
     "status": "completed"
    },
    "tags": []
   },
   "source": [
    "##  Problem Statement\n",
    "\n",
    "Suppose you are the CEO of a restaurant franchise and are considering different cities for opening a new outlet.\n",
    "- You would like to expand your business to cities that may give your restaurant higher profits.\n",
    "- The chain already has restaurants in various cities and you have data for profits and populations from the cities.\n",
    "- You also have data on cities that are candidates for a new restaurant. \n",
    "    - For these cities, you have the city population."
   ]
  },
  {
   "cell_type": "markdown",
   "id": "817334b7",
   "metadata": {
    "papermill": {
     "duration": 0.006914,
     "end_time": "2023-08-01T14:16:52.010485",
     "exception": false,
     "start_time": "2023-08-01T14:16:52.003571",
     "status": "completed"
    },
    "tags": []
   },
   "source": [
    "## Goal\n",
    "The goal of this project is to build a linear regression model to determine which city would give the highest profit.\n",
    "\n",
    "With the model, I can add a new city's population and have the model estimate your restaurant's potential monthly profits for that city."
   ]
  },
  {
   "cell_type": "markdown",
   "id": "76e36888",
   "metadata": {
    "papermill": {
     "duration": 0.007225,
     "end_time": "2023-08-01T14:16:52.025393",
     "exception": false,
     "start_time": "2023-08-01T14:16:52.018168",
     "status": "completed"
    },
    "tags": []
   },
   "source": [
    "### Reference\n",
    "This project was done thanks to \"Supervised Machine Learning\" course on Coursera by Andrew ng (DeepLearning.AI), which I took.\n",
    "\n",
    "Understanding of the manual application of Linear regression using cost function and gradient descent."
   ]
  },
  {
   "cell_type": "code",
   "execution_count": 1,
   "id": "30bf4587",
   "metadata": {
    "execution": {
     "iopub.execute_input": "2023-08-01T14:16:52.045197Z",
     "iopub.status.busy": "2023-08-01T14:16:52.044752Z",
     "iopub.status.idle": "2023-08-01T14:16:52.049173Z",
     "shell.execute_reply": "2023-08-01T14:16:52.048395Z"
    },
    "papermill": {
     "duration": 0.015862,
     "end_time": "2023-08-01T14:16:52.051004",
     "exception": false,
     "start_time": "2023-08-01T14:16:52.035142",
     "status": "completed"
    },
    "tags": []
   },
   "outputs": [],
   "source": [
    "# Importing required Libraries\n",
    "import numpy as np\n",
    "import matplotlib.pyplot as plt\n",
    "import pandas as pd\n",
    "import copy\n",
    "import math"
   ]
  },
  {
   "cell_type": "code",
   "execution_count": 2,
   "id": "5ff466e0",
   "metadata": {
    "execution": {
     "iopub.execute_input": "2023-08-01T14:16:52.069133Z",
     "iopub.status.busy": "2023-08-01T14:16:52.068380Z",
     "iopub.status.idle": "2023-08-01T14:16:52.074208Z",
     "shell.execute_reply": "2023-08-01T14:16:52.072141Z"
    },
    "papermill": {
     "duration": 0.01777,
     "end_time": "2023-08-01T14:16:52.076847",
     "exception": false,
     "start_time": "2023-08-01T14:16:52.059077",
     "status": "completed"
    },
    "tags": []
   },
   "outputs": [],
   "source": [
    "header = ['Population', 'Profit']"
   ]
  },
  {
   "cell_type": "code",
   "execution_count": 3,
   "id": "7264725f",
   "metadata": {
    "execution": {
     "iopub.execute_input": "2023-08-01T14:16:52.094332Z",
     "iopub.status.busy": "2023-08-01T14:16:52.093491Z",
     "iopub.status.idle": "2023-08-01T14:16:52.130379Z",
     "shell.execute_reply": "2023-08-01T14:16:52.129435Z"
    },
    "papermill": {
     "duration": 0.047808,
     "end_time": "2023-08-01T14:16:52.132341",
     "exception": false,
     "start_time": "2023-08-01T14:16:52.084533",
     "status": "completed"
    },
    "tags": []
   },
   "outputs": [
    {
     "data": {
      "text/html": [
       "<div>\n",
       "<style scoped>\n",
       "    .dataframe tbody tr th:only-of-type {\n",
       "        vertical-align: middle;\n",
       "    }\n",
       "\n",
       "    .dataframe tbody tr th {\n",
       "        vertical-align: top;\n",
       "    }\n",
       "\n",
       "    .dataframe thead th {\n",
       "        text-align: right;\n",
       "    }\n",
       "</style>\n",
       "<table border=\"1\" class=\"dataframe\">\n",
       "  <thead>\n",
       "    <tr style=\"text-align: right;\">\n",
       "      <th></th>\n",
       "      <th>Population</th>\n",
       "      <th>Profit</th>\n",
       "    </tr>\n",
       "  </thead>\n",
       "  <tbody>\n",
       "    <tr>\n",
       "      <th>0</th>\n",
       "      <td>6.1101</td>\n",
       "      <td>17.5920</td>\n",
       "    </tr>\n",
       "    <tr>\n",
       "      <th>1</th>\n",
       "      <td>5.5277</td>\n",
       "      <td>9.1302</td>\n",
       "    </tr>\n",
       "    <tr>\n",
       "      <th>2</th>\n",
       "      <td>8.5186</td>\n",
       "      <td>13.6620</td>\n",
       "    </tr>\n",
       "    <tr>\n",
       "      <th>3</th>\n",
       "      <td>7.0032</td>\n",
       "      <td>11.8540</td>\n",
       "    </tr>\n",
       "    <tr>\n",
       "      <th>4</th>\n",
       "      <td>5.8598</td>\n",
       "      <td>6.8233</td>\n",
       "    </tr>\n",
       "  </tbody>\n",
       "</table>\n",
       "</div>"
      ],
      "text/plain": [
       "   Population   Profit\n",
       "0      6.1101  17.5920\n",
       "1      5.5277   9.1302\n",
       "2      8.5186  13.6620\n",
       "3      7.0032  11.8540\n",
       "4      5.8598   6.8233"
      ]
     },
     "execution_count": 3,
     "metadata": {},
     "output_type": "execute_result"
    }
   ],
   "source": [
    "data = pd.read_csv('dataset/restaurant.csv', sep = ';', names=header)\n",
    "data.head()"
   ]
  },
  {
   "cell_type": "code",
   "execution_count": 4,
   "id": "a481f805",
   "metadata": {
    "execution": {
     "iopub.execute_input": "2023-08-01T14:16:52.150357Z",
     "iopub.status.busy": "2023-08-01T14:16:52.149868Z",
     "iopub.status.idle": "2023-08-01T14:16:52.156637Z",
     "shell.execute_reply": "2023-08-01T14:16:52.155188Z"
    },
    "papermill": {
     "duration": 0.019458,
     "end_time": "2023-08-01T14:16:52.159643",
     "exception": false,
     "start_time": "2023-08-01T14:16:52.140185",
     "status": "completed"
    },
    "tags": []
   },
   "outputs": [
    {
     "data": {
      "text/plain": [
       "(97, 2)"
      ]
     },
     "execution_count": 4,
     "metadata": {},
     "output_type": "execute_result"
    }
   ],
   "source": [
    "data.shape"
   ]
  },
  {
   "cell_type": "code",
   "execution_count": 5,
   "id": "e025b72a",
   "metadata": {
    "execution": {
     "iopub.execute_input": "2023-08-01T14:16:52.178932Z",
     "iopub.status.busy": "2023-08-01T14:16:52.178183Z",
     "iopub.status.idle": "2023-08-01T14:16:52.202763Z",
     "shell.execute_reply": "2023-08-01T14:16:52.201726Z"
    },
    "papermill": {
     "duration": 0.036865,
     "end_time": "2023-08-01T14:16:52.204691",
     "exception": false,
     "start_time": "2023-08-01T14:16:52.167826",
     "status": "completed"
    },
    "tags": []
   },
   "outputs": [
    {
     "data": {
      "text/html": [
       "<div>\n",
       "<style scoped>\n",
       "    .dataframe tbody tr th:only-of-type {\n",
       "        vertical-align: middle;\n",
       "    }\n",
       "\n",
       "    .dataframe tbody tr th {\n",
       "        vertical-align: top;\n",
       "    }\n",
       "\n",
       "    .dataframe thead th {\n",
       "        text-align: right;\n",
       "    }\n",
       "</style>\n",
       "<table border=\"1\" class=\"dataframe\">\n",
       "  <thead>\n",
       "    <tr style=\"text-align: right;\">\n",
       "      <th></th>\n",
       "      <th>Population</th>\n",
       "      <th>Profit</th>\n",
       "    </tr>\n",
       "  </thead>\n",
       "  <tbody>\n",
       "    <tr>\n",
       "      <th>count</th>\n",
       "      <td>97.000000</td>\n",
       "      <td>97.000000</td>\n",
       "    </tr>\n",
       "    <tr>\n",
       "      <th>mean</th>\n",
       "      <td>8.159800</td>\n",
       "      <td>5.839135</td>\n",
       "    </tr>\n",
       "    <tr>\n",
       "      <th>std</th>\n",
       "      <td>3.869884</td>\n",
       "      <td>5.510262</td>\n",
       "    </tr>\n",
       "    <tr>\n",
       "      <th>min</th>\n",
       "      <td>5.026900</td>\n",
       "      <td>-2.680700</td>\n",
       "    </tr>\n",
       "    <tr>\n",
       "      <th>25%</th>\n",
       "      <td>5.707700</td>\n",
       "      <td>1.986900</td>\n",
       "    </tr>\n",
       "    <tr>\n",
       "      <th>50%</th>\n",
       "      <td>6.589400</td>\n",
       "      <td>4.562300</td>\n",
       "    </tr>\n",
       "    <tr>\n",
       "      <th>75%</th>\n",
       "      <td>8.578100</td>\n",
       "      <td>7.046700</td>\n",
       "    </tr>\n",
       "    <tr>\n",
       "      <th>max</th>\n",
       "      <td>22.203000</td>\n",
       "      <td>24.147000</td>\n",
       "    </tr>\n",
       "  </tbody>\n",
       "</table>\n",
       "</div>"
      ],
      "text/plain": [
       "       Population     Profit\n",
       "count   97.000000  97.000000\n",
       "mean     8.159800   5.839135\n",
       "std      3.869884   5.510262\n",
       "min      5.026900  -2.680700\n",
       "25%      5.707700   1.986900\n",
       "50%      6.589400   4.562300\n",
       "75%      8.578100   7.046700\n",
       "max     22.203000  24.147000"
      ]
     },
     "execution_count": 5,
     "metadata": {},
     "output_type": "execute_result"
    }
   ],
   "source": [
    "data.describe()"
   ]
  },
  {
   "cell_type": "code",
   "execution_count": 6,
   "id": "e472cb48",
   "metadata": {
    "execution": {
     "iopub.execute_input": "2023-08-01T14:16:52.222844Z",
     "iopub.status.busy": "2023-08-01T14:16:52.222469Z",
     "iopub.status.idle": "2023-08-01T14:16:52.229459Z",
     "shell.execute_reply": "2023-08-01T14:16:52.228626Z"
    },
    "papermill": {
     "duration": 0.018531,
     "end_time": "2023-08-01T14:16:52.231315",
     "exception": false,
     "start_time": "2023-08-01T14:16:52.212784",
     "status": "completed"
    },
    "tags": []
   },
   "outputs": [
    {
     "name": "stdout",
     "output_type": "stream",
     "text": [
      "Missing values in data: \n",
      " Population    0\n",
      "Profit        0\n",
      "dtype: int64\n"
     ]
    }
   ],
   "source": [
    "# Check for missing values\n",
    "print(f'Missing values in data: \\n {data.isnull().sum()}')"
   ]
  },
  {
   "cell_type": "code",
   "execution_count": 7,
   "id": "2a45110d",
   "metadata": {
    "execution": {
     "iopub.execute_input": "2023-08-01T14:16:52.250302Z",
     "iopub.status.busy": "2023-08-01T14:16:52.249835Z",
     "iopub.status.idle": "2023-08-01T14:16:52.269721Z",
     "shell.execute_reply": "2023-08-01T14:16:52.268327Z"
    },
    "papermill": {
     "duration": 0.032119,
     "end_time": "2023-08-01T14:16:52.271927",
     "exception": false,
     "start_time": "2023-08-01T14:16:52.239808",
     "status": "completed"
    },
    "tags": []
   },
   "outputs": [
    {
     "name": "stdout",
     "output_type": "stream",
     "text": [
      "Duplicates in data is 0\n"
     ]
    }
   ],
   "source": [
    "# Check for duplicate\n",
    "print(f'Duplicates in data is {data.duplicated().sum()}')"
   ]
  },
  {
   "cell_type": "markdown",
   "id": "53e38cf6",
   "metadata": {
    "papermill": {
     "duration": 0.007647,
     "end_time": "2023-08-01T14:16:52.287777",
     "exception": false,
     "start_time": "2023-08-01T14:16:52.280130",
     "status": "completed"
    },
    "tags": []
   },
   "source": [
    "No misssing and no duplicates values"
   ]
  },
  {
   "cell_type": "code",
   "execution_count": 8,
   "id": "21faba66",
   "metadata": {
    "execution": {
     "iopub.execute_input": "2023-08-01T14:16:52.305637Z",
     "iopub.status.busy": "2023-08-01T14:16:52.305168Z",
     "iopub.status.idle": "2023-08-01T14:16:52.311140Z",
     "shell.execute_reply": "2023-08-01T14:16:52.309904Z"
    },
    "papermill": {
     "duration": 0.017597,
     "end_time": "2023-08-01T14:16:52.313143",
     "exception": false,
     "start_time": "2023-08-01T14:16:52.295546",
     "status": "completed"
    },
    "tags": []
   },
   "outputs": [],
   "source": [
    "# Seperate the data into x_train and y_train\n",
    "# assign population to x_train and profit to y_train\n",
    "x_train = data['Population']\n",
    "y_train = data['Profit']"
   ]
  },
  {
   "cell_type": "code",
   "execution_count": 9,
   "id": "8bcc6955",
   "metadata": {
    "execution": {
     "iopub.execute_input": "2023-08-01T14:16:52.332760Z",
     "iopub.status.busy": "2023-08-01T14:16:52.332085Z",
     "iopub.status.idle": "2023-08-01T14:16:52.340593Z",
     "shell.execute_reply": "2023-08-01T14:16:52.339405Z"
    },
    "papermill": {
     "duration": 0.021019,
     "end_time": "2023-08-01T14:16:52.343401",
     "exception": false,
     "start_time": "2023-08-01T14:16:52.322382",
     "status": "completed"
    },
    "tags": []
   },
   "outputs": [
    {
     "name": "stdout",
     "output_type": "stream",
     "text": [
      "x_train shape is: (97,)\n",
      "\n",
      "0    6.1101\n",
      "1    5.5277\n",
      "2    8.5186\n",
      "3    7.0032\n",
      "4    5.8598\n",
      "5    8.3829\n",
      "Name: Population, dtype: float64\n"
     ]
    }
   ],
   "source": [
    "# view x_train shape\n",
    "print(f\"x_train shape is: {x_train.shape}\\n\")\n",
    "print(x_train[:6])"
   ]
  },
  {
   "cell_type": "code",
   "execution_count": 10,
   "id": "2eb7654e",
   "metadata": {
    "execution": {
     "iopub.execute_input": "2023-08-01T14:16:52.363142Z",
     "iopub.status.busy": "2023-08-01T14:16:52.362082Z",
     "iopub.status.idle": "2023-08-01T14:16:52.369607Z",
     "shell.execute_reply": "2023-08-01T14:16:52.368289Z"
    },
    "papermill": {
     "duration": 0.02024,
     "end_time": "2023-08-01T14:16:52.372536",
     "exception": false,
     "start_time": "2023-08-01T14:16:52.352296",
     "status": "completed"
    },
    "tags": []
   },
   "outputs": [
    {
     "name": "stdout",
     "output_type": "stream",
     "text": [
      "y_train shape is: (97,)\n",
      "\n",
      "0    17.5920\n",
      "1     9.1302\n",
      "2    13.6620\n",
      "3    11.8540\n",
      "4     6.8233\n",
      "5    11.8860\n",
      "Name: Profit, dtype: float64\n"
     ]
    }
   ],
   "source": [
    "# view x_train shape\n",
    "print(f\"y_train shape is: {y_train.shape}\\n\")\n",
    "print(y_train[:6])"
   ]
  },
  {
   "cell_type": "markdown",
   "id": "4cf56b9b",
   "metadata": {
    "papermill": {
     "duration": 0.009654,
     "end_time": "2023-08-01T14:16:52.390155",
     "exception": false,
     "start_time": "2023-08-01T14:16:52.380501",
     "status": "completed"
    },
    "tags": []
   },
   "source": [
    "### Visualize the data"
   ]
  },
  {
   "cell_type": "code",
   "execution_count": 12,
   "id": "efe58fab",
   "metadata": {
    "execution": {
     "iopub.execute_input": "2023-08-01T14:16:52.410489Z",
     "iopub.status.busy": "2023-08-01T14:16:52.409485Z",
     "iopub.status.idle": "2023-08-01T14:16:52.676925Z",
     "shell.execute_reply": "2023-08-01T14:16:52.674930Z"
    },
    "papermill": {
     "duration": 0.279382,
     "end_time": "2023-08-01T14:16:52.679906",
     "exception": false,
     "start_time": "2023-08-01T14:16:52.400524",
     "status": "completed"
    },
    "tags": []
   },
   "outputs": [
    {
     "data": {
      "image/png": "[encoded data removed]",
      "text/plain": [
       "<Figure size 640x480 with 1 Axes>"
      ]
     },
     "metadata": {},
     "output_type": "display_data"
    }
   ],
   "source": [
    "plt.scatter(x_train, y_train, marker='x', c='r')\n",
    "# set the title\n",
    "plt.title(\"Profits VS. Population per city\")\n",
    "# set the y-axis label\n",
    "plt.ylabel('Profit in $10,000')\n",
    "# set the x-axis label\n",
    "plt.xlabel('Population of City in 10,000s')\n",
    "plt.show()"
   ]
  },
  {
   "cell_type": "markdown",
   "id": "7b189bf9",
   "metadata": {
    "papermill": {
     "duration": 0.008467,
     "end_time": "2023-08-01T14:16:52.697594",
     "exception": false,
     "start_time": "2023-08-01T14:16:52.689127",
     "status": "completed"
    },
    "tags": []
   },
   "source": [
    "## Model prediction\n",
    "\n",
    "- For linear regression with one variable, the prediction of the model $f_{w,b}$ for an example $x^{(i)}$ is representented as:\n",
    "\n",
    "$$ f_{w,b}(x^{(i)}) = wx^{(i)} + b$$\n",
    "\n",
    "This is the equation for a line, with an intercept $b$ and a slope $w$"
   ]
  },
  {
   "cell_type": "markdown",
   "id": "7c302eed",
   "metadata": {
    "papermill": {
     "duration": 0.007813,
     "end_time": "2023-08-01T14:16:52.713696",
     "exception": false,
     "start_time": "2023-08-01T14:16:52.705883",
     "status": "completed"
    },
    "tags": []
   },
   "source": [
    "<a name=\"ex01\"></a>\n",
    "### Cost function\n",
    "\n",
    "First compute the cost function; The cost function (J) tries to reduce the errors as much as possible\n",
    "\n",
    "* Iterate over the training examples, and for each example, compute:\n",
    "    * The prediction of the model for that example \n",
    "    $$\n",
    "    f_{wb}(x^{(i)}) =  wx^{(i)} + b \n",
    "    $$\n",
    "   \n",
    "    * The cost for that example  $$cost^{(i)} =  (f_{wb} - y^{(i)})^2$$\n",
    "    \n",
    "\n",
    "* Return the total cost over all examples\n",
    "$$J(\\mathbf{w},b) = \\frac{1}{2m} \\sum\\limits_{i = 0}^{m-1} cost^{(i)}$$\n",
    "  * Here, $m$ is the number of training examples and $\\sum$ is the summation operator\n",
    "\n"
   ]
  },
  {
   "cell_type": "code",
   "execution_count": 13,
   "id": "170ba0ec",
   "metadata": {
    "execution": {
     "iopub.execute_input": "2023-08-01T14:16:52.732025Z",
     "iopub.status.busy": "2023-08-01T14:16:52.731009Z",
     "iopub.status.idle": "2023-08-01T14:16:52.737667Z",
     "shell.execute_reply": "2023-08-01T14:16:52.736907Z"
    },
    "papermill": {
     "duration": 0.01802,
     "end_time": "2023-08-01T14:16:52.739413",
     "exception": false,
     "start_time": "2023-08-01T14:16:52.721393",
     "status": "completed"
    },
    "tags": []
   },
   "outputs": [],
   "source": [
    "# Compute the cost function\n",
    "def compute_cost(x, y, w, b):\n",
    "    m = x.shape[0] # m is the number of training examples\n",
    "    total_cost = 0\n",
    "    cost_sum = 0\n",
    "    \n",
    "    for i in range(m):\n",
    "        f_wb = w * x[i] + b\n",
    "        cost = (f_wb - y[i]) ** 2\n",
    "        cost_sum = cost_sum + cost\n",
    "        total_cost = (1 / (2 * m)) * cost_sum\n",
    "        \n",
    "    return total_cost"
   ]
  },
  {
   "cell_type": "code",
   "execution_count": 14,
   "id": "fad47eeb",
   "metadata": {
    "execution": {
     "iopub.execute_input": "2023-08-01T14:16:52.758148Z",
     "iopub.status.busy": "2023-08-01T14:16:52.757125Z",
     "iopub.status.idle": "2023-08-01T14:16:52.765919Z",
     "shell.execute_reply": "2023-08-01T14:16:52.764462Z"
    },
    "papermill": {
     "duration": 0.020797,
     "end_time": "2023-08-01T14:16:52.768573",
     "exception": false,
     "start_time": "2023-08-01T14:16:52.747776",
     "status": "completed"
    },
    "tags": []
   },
   "outputs": [
    {
     "name": "stdout",
     "output_type": "stream",
     "text": [
      "75.20338497891959\n"
     ]
    }
   ],
   "source": [
    "# Compute cost with some initial values for parameters w, b\n",
    "initial_w = 2\n",
    "initial_b = 1\n",
    "\n",
    "cost = compute_cost(x_train, y_train, initial_w, initial_b)\n",
    "print(cost)"
   ]
  },
  {
   "cell_type": "markdown",
   "id": "4733d814",
   "metadata": {
    "papermill": {
     "duration": 0.008046,
     "end_time": "2023-08-01T14:16:52.785732",
     "exception": false,
     "start_time": "2023-08-01T14:16:52.777686",
     "status": "completed"
    },
    "tags": []
   },
   "source": [
    "### Gradient descent\n",
    "\n",
    "The gradient descent is an algorithm for finding the parameters w & b that minimizes the cost function J.\n",
    "\n",
    "The compute_gradient function does the following:\n",
    "\n",
    "* Iterate over the training examples, and for each example, compute:\n",
    "    * The prediction of the model for that example \n",
    "    $$\n",
    "    f_{wb}(x^{(i)}) =  wx^{(i)} + b \n",
    "    $$\n",
    "   \n",
    "    * The gradient for the parameters $w, b$ from that example \n",
    "        $$\n",
    "        \\frac{\\partial J(w,b)}{\\partial b}^{(i)}  =  (f_{w,b}(x^{(i)}) - y^{(i)}) \n",
    "        $$\n",
    "        $$\n",
    "        \\frac{\\partial J(w,b)}{\\partial w}^{(i)}  =  (f_{w,b}(x^{(i)}) -y^{(i)})x^{(i)} \n",
    "        $$\n",
    "    \n",
    "\n",
    "* Return the total gradient update from all the examples\n",
    "    $$\n",
    "    \\frac{\\partial J(w,b)}{\\partial b}  = \\frac{1}{m} \\sum\\limits_{i = 0}^{m-1} \\frac{\\partial J(w,b)}{\\partial b}^{(i)}\n",
    "    $$\n",
    "    \n",
    "    $$\n",
    "    \\frac{\\partial J(w,b)}{\\partial w}  = \\frac{1}{m} \\sum\\limits_{i = 0}^{m-1} \\frac{\\partial J(w,b)}{\\partial w}^{(i)} \n",
    "    $$\n",
    "  * Here, $m$ is the number of training examples and $\\sum$ is the summation operator\n"
   ]
  },
  {
   "cell_type": "code",
   "execution_count": 15,
   "id": "bfae9478",
   "metadata": {
    "execution": {
     "iopub.execute_input": "2023-08-01T14:16:52.804371Z",
     "iopub.status.busy": "2023-08-01T14:16:52.803896Z",
     "iopub.status.idle": "2023-08-01T14:16:52.810426Z",
     "shell.execute_reply": "2023-08-01T14:16:52.809214Z"
    },
    "papermill": {
     "duration": 0.01944,
     "end_time": "2023-08-01T14:16:52.813337",
     "exception": false,
     "start_time": "2023-08-01T14:16:52.793897",
     "status": "completed"
    },
    "tags": []
   },
   "outputs": [],
   "source": [
    "def compute_gradient(x, y, w, b):\n",
    "    m = x.shape[0] # number of training examples\n",
    "    dj_dw = 0\n",
    "    dj_db = 0\n",
    "    \n",
    "    for i in range(m):\n",
    "        f_wb = w * x[i] + b\n",
    "        dj_dw_i = (f_wb - y[i]) * x[i]\n",
    "        dj_db_i = f_wb - y[i]\n",
    "        dj_db += dj_db_i\n",
    "        dj_dw += dj_dw_i\n",
    "    dj_dw = dj_dw / m\n",
    "    dj_db = dj_db / m\n",
    "    \n",
    "    return dj_dw, dj_db"
   ]
  },
  {
   "cell_type": "code",
   "execution_count": 16,
   "id": "1b1914f3",
   "metadata": {
    "execution": {
     "iopub.execute_input": "2023-08-01T14:16:52.834007Z",
     "iopub.status.busy": "2023-08-01T14:16:52.833592Z",
     "iopub.status.idle": "2023-08-01T14:16:52.841065Z",
     "shell.execute_reply": "2023-08-01T14:16:52.840111Z"
    },
    "papermill": {
     "duration": 0.020509,
     "end_time": "2023-08-01T14:16:52.843066",
     "exception": false,
     "start_time": "2023-08-01T14:16:52.822557",
     "status": "completed"
    },
    "tags": []
   },
   "outputs": [
    {
     "name": "stdout",
     "output_type": "stream",
     "text": [
      "Gradient at initial w, b (0):  -65.32884974555672 -5.83913505154639\n"
     ]
    }
   ],
   "source": [
    "initial_w = 0\n",
    "initial_b = 0\n",
    "\n",
    "tmp_dj_dw, tmp_dj_db = compute_gradient(x_train, y_train, initial_w, initial_b)\n",
    "print('Gradient at initial w, b (0): ', tmp_dj_dw, tmp_dj_db)"
   ]
  },
  {
   "cell_type": "code",
   "execution_count": 17,
   "id": "ba209f43",
   "metadata": {
    "execution": {
     "iopub.execute_input": "2023-08-01T14:16:52.861842Z",
     "iopub.status.busy": "2023-08-01T14:16:52.861435Z",
     "iopub.status.idle": "2023-08-01T14:16:52.869933Z",
     "shell.execute_reply": "2023-08-01T14:16:52.868886Z"
    },
    "papermill": {
     "duration": 0.020196,
     "end_time": "2023-08-01T14:16:52.871985",
     "exception": false,
     "start_time": "2023-08-01T14:16:52.851789",
     "status": "completed"
    },
    "tags": []
   },
   "outputs": [
    {
     "name": "stdout",
     "output_type": "stream",
     "text": [
      "Gradient at w, b:  -47.41610118114435 -4.007175051546391\n"
     ]
    }
   ],
   "source": [
    "# Compute and display cost and gradient with non-zero w\n",
    "test_w = 0.2\n",
    "test_b = 0.2\n",
    "tmp_dj_dw, tmp_dj_db = compute_gradient(x_train, y_train, test_w, test_b)\n",
    "print('Gradient at w, b: ', tmp_dj_dw, tmp_dj_db)"
   ]
  },
  {
   "cell_type": "markdown",
   "id": "dbf06452",
   "metadata": {
    "papermill": {
     "duration": 0.008213,
     "end_time": "2023-08-01T14:16:52.889496",
     "exception": false,
     "start_time": "2023-08-01T14:16:52.881283",
     "status": "completed"
    },
    "tags": []
   },
   "source": [
    "### 2.6 Learning parameters using batch gradient descent \n",
    "\n",
    "The optimal parameters of a linear regression model is found by using batch gradient descent. \n",
    "Batch refers to running all the examples in one iteration."
   ]
  },
  {
   "cell_type": "code",
   "execution_count": 18,
   "id": "3dc6c345",
   "metadata": {
    "execution": {
     "iopub.execute_input": "2023-08-01T14:16:52.908411Z",
     "iopub.status.busy": "2023-08-01T14:16:52.908030Z",
     "iopub.status.idle": "2023-08-01T14:16:52.916678Z",
     "shell.execute_reply": "2023-08-01T14:16:52.914912Z"
    },
    "papermill": {
     "duration": 0.021371,
     "end_time": "2023-08-01T14:16:52.919559",
     "exception": false,
     "start_time": "2023-08-01T14:16:52.898188",
     "status": "completed"
    },
    "tags": []
   },
   "outputs": [],
   "source": [
    "def gradient_descent(x, y, w_in, b_in, cost_function, gradient_function, alpha, num_iters):\n",
    "    m = len(x)\n",
    "    \n",
    "    # An array to store cost J and w's at each iteration — primarily for graphing later\n",
    "    J_history = []\n",
    "    w_history = []\n",
    "    w = copy.deepcopy(w_in)\n",
    "    b = b_in\n",
    "    \n",
    "    for i in range(num_iters):\n",
    "        \n",
    "        # Calculate the gradient and update the parameters\n",
    "        dj_dw, dj_db = gradient_function(x, y, w, b)\n",
    "        \n",
    "        # Update parameters using w, b, alpha and gradient\n",
    "        w = w - alpha * dj_dw\n",
    "        b = b - alpha * dj_db\n",
    "        \n",
    "        # Save cost J at each iteration\n",
    "        if i<100000:\n",
    "            cost = cost_function(x, y, w, b)\n",
    "            J_history.append(cost)\n",
    "            \n",
    "        # Print cost every at intervals 10 times or as many iterations if < 10\n",
    "        if i% math.ceil(num_iters/10) == 0:\n",
    "            w_history.append(w)\n",
    "            print(f\"Iteration {i:4}: Cost {float(J_history[-1]):8.2f} \")\n",
    "            \n",
    "    return w, b, J_history, w_history"
   ]
  },
  {
   "cell_type": "markdown",
   "id": "0ec2508a",
   "metadata": {
    "papermill": {
     "duration": 0.008744,
     "end_time": "2023-08-01T14:16:52.937330",
     "exception": false,
     "start_time": "2023-08-01T14:16:52.928586",
     "status": "completed"
    },
    "tags": []
   },
   "source": [
    "Using the dataset above to run the batch gradient descent"
   ]
  },
  {
   "cell_type": "code",
   "execution_count": 19,
   "id": "0c0f3ba8",
   "metadata": {
    "execution": {
     "iopub.execute_input": "2023-08-01T14:16:52.955450Z",
     "iopub.status.busy": "2023-08-01T14:16:52.955050Z",
     "iopub.status.idle": "2023-08-01T14:16:53.256537Z",
     "shell.execute_reply": "2023-08-01T14:16:53.254479Z"
    },
    "papermill": {
     "duration": 0.313721,
     "end_time": "2023-08-01T14:16:53.259334",
     "exception": false,
     "start_time": "2023-08-01T14:16:52.945613",
     "status": "completed"
    },
    "tags": []
   },
   "outputs": [
    {
     "name": "stdout",
     "output_type": "stream",
     "text": [
      "Iteration    0: Cost     6.74 \n",
      "Iteration   15: Cost     5.84 \n",
      "Iteration   30: Cost     5.76 \n",
      "Iteration   45: Cost     5.70 \n",
      "Iteration   60: Cost     5.63 \n",
      "Iteration   75: Cost     5.57 \n",
      "Iteration   90: Cost     5.51 \n",
      "Iteration  105: Cost     5.46 \n",
      "Iteration  120: Cost     5.41 \n",
      "Iteration  135: Cost     5.36 \n",
      "w,b found by gradient descent:  0.8883456872246002 -0.8628783435013853\n"
     ]
    }
   ],
   "source": [
    "initial_w = 0\n",
    "initial_b = 0\n",
    "\n",
    "# some gradient descent values\n",
    "iterations = 150\n",
    "alpha = 0.01\n",
    "\n",
    "\n",
    "w,b,_,_ = gradient_descent(x_train, y_train, initial_w, initial_b, compute_cost,\n",
    "                          compute_gradient, alpha, iterations)\n",
    "print(\"w,b found by gradient descent: \", w, b)"
   ]
  },
  {
   "cell_type": "markdown",
   "id": "db6934d4",
   "metadata": {
    "papermill": {
     "duration": 0.008465,
     "end_time": "2023-08-01T14:16:53.277319",
     "exception": false,
     "start_time": "2023-08-01T14:16:53.268854",
     "status": "completed"
    },
    "tags": []
   },
   "source": [
    "We will now use the final parameters from gradient descent to plot the linear fit. \n",
    "\n",
    "Recall that we can get the prediction for a single example $f(x^{(i)})= wx^{(i)}+b$. \n",
    "\n",
    "To calculate the predictions on the entire dataset, we can loop through all the training examples and calculate the prediction for each example. This is shown in the code block below."
   ]
  },
  {
   "cell_type": "code",
   "execution_count": 20,
   "id": "d0bcbc03",
   "metadata": {
    "execution": {
     "iopub.execute_input": "2023-08-01T14:16:53.297087Z",
     "iopub.status.busy": "2023-08-01T14:16:53.296670Z",
     "iopub.status.idle": "2023-08-01T14:16:53.303148Z",
     "shell.execute_reply": "2023-08-01T14:16:53.301806Z"
    },
    "papermill": {
     "duration": 0.018844,
     "end_time": "2023-08-01T14:16:53.305119",
     "exception": false,
     "start_time": "2023-08-01T14:16:53.286275",
     "status": "completed"
    },
    "tags": []
   },
   "outputs": [],
   "source": [
    "m = x_train.shape[0]\n",
    "predicted = np.zeros(m)\n",
    "\n",
    "for i in range(m):\n",
    "    predicted[i] = w * x_train[i] + b"
   ]
  },
  {
   "cell_type": "markdown",
   "id": "e453789d",
   "metadata": {
    "papermill": {
     "duration": 0.008439,
     "end_time": "2023-08-01T14:16:53.323068",
     "exception": false,
     "start_time": "2023-08-01T14:16:53.314629",
     "status": "completed"
    },
    "tags": []
   },
   "source": [
    "Plot the predicted value"
   ]
  },
  {
   "cell_type": "code",
   "execution_count": 21,
   "id": "58c317b9",
   "metadata": {
    "execution": {
     "iopub.execute_input": "2023-08-01T14:16:53.343085Z",
     "iopub.status.busy": "2023-08-01T14:16:53.342689Z",
     "iopub.status.idle": "2023-08-01T14:16:53.579885Z",
     "shell.execute_reply": "2023-08-01T14:16:53.578676Z"
    },
    "papermill": {
     "duration": 0.250794,
     "end_time": "2023-08-01T14:16:53.582917",
     "exception": false,
     "start_time": "2023-08-01T14:16:53.332123",
     "status": "completed"
    },
    "tags": []
   },
   "outputs": [
    {
     "data": {
      "text/plain": [
       "Text(0.5, 0, 'Population of City in 10,000s')"
      ]
     },
     "execution_count": 21,
     "metadata": {},
     "output_type": "execute_result"
    },
    {
     "data": {
      "image/png": "[encoded data removed]",
      "text/plain": [
       "<Figure size 640x480 with 1 Axes>"
      ]
     },
     "metadata": {},
     "output_type": "display_data"
    }
   ],
   "source": [
    "# The predicted values plot\n",
    "\n",
    "plt.plot(x_train, predicted, c=\"b\") # plot the linear fit\n",
    "\n",
    "# Scatter plot of the data\n",
    "plt.scatter(x_train, y_train, marker='x', c='r')\n",
    "\n",
    "# Set the title\n",
    "plt.title(\"Profits vs. Population per city\")\n",
    "plt.ylabel('Profit in $10,000') # the y label\n",
    "plt.xlabel('Population of City in 10,000s') # x label"
   ]
  },
  {
   "cell_type": "markdown",
   "id": "724e92cd",
   "metadata": {
    "papermill": {
     "duration": 0.009981,
     "end_time": "2023-08-01T14:16:53.603742",
     "exception": false,
     "start_time": "2023-08-01T14:16:53.593761",
     "status": "completed"
    },
    "tags": []
   },
   "source": [
    "The final values of $w,b$ can also be used to make predictions on profits. Let's predict what the profit would be in areas of 35,000 and 70,000 people. \n",
    "\n",
    "- The model takes in population of a city in 10,000s as input. \n",
    "\n",
    "- Therefore, 35,000 people can be translated into an input to the model as `np.array([3.5])`\n",
    "\n",
    "- Similarly, 70,000 people can be translated into an input to the model as `np.array([7.])`"
   ]
  },
  {
   "cell_type": "code",
   "execution_count": 22,
   "id": "8d5cf9e8",
   "metadata": {
    "execution": {
     "iopub.execute_input": "2023-08-01T14:16:53.627156Z",
     "iopub.status.busy": "2023-08-01T14:16:53.626014Z",
     "iopub.status.idle": "2023-08-01T14:16:53.632371Z",
     "shell.execute_reply": "2023-08-01T14:16:53.631043Z"
    },
    "papermill": {
     "duration": 0.021219,
     "end_time": "2023-08-01T14:16:53.635329",
     "exception": false,
     "start_time": "2023-08-01T14:16:53.614110",
     "status": "completed"
    },
    "tags": []
   },
   "outputs": [
    {
     "name": "stdout",
     "output_type": "stream",
     "text": [
      "For population = 35,000, we predict a profit of $22463.32\n",
      "\n",
      "For population = 70,000, we predict a profit of $53555.41\n"
     ]
    }
   ],
   "source": [
    "predict_1 = 3.5 * w + b\n",
    "print('For population = 35,000, we predict a profit of $%.2f\\n' % (predict_1*10000))\n",
    "\n",
    "predict_2 = 7.0 * w + b\n",
    "print('For population = 70,000, we predict a profit of $%.2f' % (predict_2*10000))"
   ]
  },
  {
   "cell_type": "code",
   "execution_count": 23,
   "id": "75ee54d2",
   "metadata": {
    "execution": {
     "iopub.execute_input": "2023-08-01T14:16:53.665013Z",
     "iopub.status.busy": "2023-08-01T14:16:53.663781Z",
     "iopub.status.idle": "2023-08-01T14:16:53.672540Z",
     "shell.execute_reply": "2023-08-01T14:16:53.670282Z"
    },
    "papermill": {
     "duration": 0.026411,
     "end_time": "2023-08-01T14:16:53.675208",
     "exception": false,
     "start_time": "2023-08-01T14:16:53.648797",
     "status": "completed"
    },
    "tags": []
   },
   "outputs": [
    {
     "name": "stdout",
     "output_type": "stream",
     "text": [
      "For population = 55,000, we predict a profit of $40230.23\n",
      "\n",
      "For population = 90,000, we predict a profit of $71322.33\n"
     ]
    }
   ],
   "source": [
    "# Trying with population of 55,000\n",
    "predict_1 = 5.5 * w + b\n",
    "print('For population = 55,000, we predict a profit of $%.2f\\n' % (predict_1*10000))\n",
    "\n",
    "# Trying with population of 90,000\n",
    "predict_2 = 9.0 * w + b\n",
    "print('For population = 90,000, we predict a profit of $%.2f' % (predict_2*10000))"
   ]
  },
  {
   "cell_type": "code",
   "execution_count": null,
   "id": "3205d3d3",
   "metadata": {
    "papermill": {
     "duration": 0.008933,
     "end_time": "2023-08-01T14:16:53.694584",
     "exception": false,
     "start_time": "2023-08-01T14:16:53.685651",
     "status": "completed"
    },
    "tags": []
   },
   "outputs": [],
   "source": []
  }
 ],
 "metadata": {
  "kernelspec": {
   "display_name": "Python 3 (ipykernel)",
   "language": "python",
   "name": "python3"
  },
  "language_info": {
   "codemirror_mode": {
    "name": "ipython",
    "version": 3
   },
   "file_extension": ".py",
   "mimetype": "text/x-python",
   "name": "python",
   "nbconvert_exporter": "python",
   "pygments_lexer": "ipython3",
   "version": "3.10.10"
  },
  "papermill": {
   "default_parameters": {},
   "duration": 12.273482,
   "end_time": "2023-08-01T14:16:54.727968",
   "environment_variables": {},
   "exception": null,
   "input_path": "__notebook__.ipynb",
   "output_path": "__notebook__.ipynb",
   "parameters": {},
   "start_time": "2023-08-01T14:16:42.454486",
   "version": "2.4.0"
  }
 },
 "nbformat": 4,
 "nbformat_minor": 5
}
